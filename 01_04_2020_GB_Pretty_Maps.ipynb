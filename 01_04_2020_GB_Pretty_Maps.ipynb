{
 "cells": [
  {
   "cell_type": "code",
   "execution_count": 1,
   "metadata": {},
   "outputs": [],
   "source": [
    "import numpy as np\n",
    "import numpy.ma as ma\n",
    "import xarray as xr\n",
    "import matplotlib.pyplot as plt\n",
    "import matplotlib.ticker as mticker\n",
    "import cartopy.crs as ccrs\n",
    "from cartopy.mpl.gridliner import LONGITUDE_FORMATTER, LATITUDE_FORMATTER\n",
    "import cartopy.feature as cfeature\n",
    "import cmocean\n",
    "\n",
    "%matplotlib inline"
   ]
  },
  {
   "cell_type": "code",
   "execution_count": 6,
   "metadata": {},
   "outputs": [],
   "source": [
    "dir='/work/teletravaille/UV_0.01/'\n",
    "file_1='global_mean.cdf'\n",
    "#file_2='global_std.cdf'\n",
    "#file_3='local_mean.cdf'\n",
    "#file_4='local_std.cdf'\n",
    "#file_5='mean.cdf'\n",
    "#file_6='std.cdf'\n",
    "#file_7='local_truth.cdf'\n",
    "#file_8='global_truth.cdf'\n",
    "#file_9='vct0050.cdf'"
   ]
  },
  {
   "cell_type": "code",
   "execution_count": 7,
   "metadata": {},
   "outputs": [],
   "source": [
    "global_mean=xr.open_dataset(dir+file_1)\n",
    "#global_std=xr.open_dataset(dir+file_2)\n",
    "#local_mean=xr.open_dataset(dir+file_3)\n",
    "#local_std=xr.open_dataset(dir+file_4)\n",
    "#mean=xr.open_dataset(dir+file_5)\n",
    "#std=xr.open_dataset(dir+file_6)\n",
    "#local_diff=xr.open_dataset(dir+file_7)\n",
    "#global_diff=xr.open_dataset(dir+file_8)\n",
    "#truth=xr.open_dataset(dir+file_9)"
   ]
  },
  {
   "cell_type": "code",
   "execution_count": 8,
   "metadata": {},
   "outputs": [],
   "source": [
    "lat=global_mean.latxy\n",
    "lon=global_mean.lonxy"
   ]
  },
  {
   "cell_type": "code",
   "execution_count": 9,
   "metadata": {},
   "outputs": [],
   "source": [
    "SSH_global_mean=global_mean.SSH\n",
    "SST_global_mean=global_mean.SST\n",
    "SSS_global_mean=global_mean.SSS\n",
    "\n",
    "#SSH_global_std=global_std.SSH\n",
    "#SST_global_std=global_std.SST\n",
    "#SSS_global_std=global_std.SSS\n",
    "\n",
    "#SSH_local_mean=local_mean.SSH\n",
    "#SST_local_mean=local_mean.SST\n",
    "#SSS_local_mean=local_mean.SSS\n",
    "\n",
    "#SSH_local_std=local_std.SSH\n",
    "#SST_local_std=local_std.SST\n",
    "#SSS_local_std=local_std.SSS\n",
    "\n",
    "#SSH_mean=mean.SSH\n",
    "#SST_mean=mean.SST\n",
    "#SSS_mean=mean.SSS\n",
    "\n",
    "#SSH_std=std.SSH\n",
    "#SST_std=std.SST\n",
    "#SSS_std=std.SSS\n",
    "\n",
    "#SSH_local_diff=local_diff.SSH\n",
    "#SST_local_diff=local_diff.SST\n",
    "#SSS_local_diff=local_diff.SSS\n",
    "\n",
    "#SSH_global_diff=global_diff.SSH\n",
    "#SST_global_diff=global_diff.SST\n",
    "#SSS_global_diff=global_diff.SSS\n",
    "\n",
    "#SSH_truth=truth.SSH\n",
    "#SST_truth=truth.SST\n",
    "#SSS_truth=truth.SSS"
   ]
  },
  {
   "cell_type": "code",
   "execution_count": null,
   "metadata": {},
   "outputs": [],
   "source": [
    "SSH_global_mean=SSH_global_mean.squeeze()\n",
    "SST_global_mean=SST_global_mean.squeeze()\n",
    "SSS_global_mean=SSS_global_mean.squeeze()\n",
    "\n",
    "SSH_global_std=SSH_global_std.squeeze()\n",
    "SST_global_std=SST_global_std.squeeze()\n",
    "SSS_global_std=SSS_global_std.squeeze()\n",
    "\n",
    "SSH_local_mean=SSH_local_mean.squeeze()\n",
    "SST_local_mean=SST_local_mean.squeeze()\n",
    "SSS_local_mean=SSS_local_mean.squeeze()\n",
    "\n",
    "SSH_local_std=SSH_local_std.squeeze()\n",
    "SST_local_std=SST_local_std.squeeze()\n",
    "SSS_local_std=SSS_local_std.squeeze()\n",
    "\n",
    "SSH_mean=SSH_mean.squeeze()\n",
    "SST_mean=SST_mean.squeeze()\n",
    "SSS_mean=SSS_mean.squeeze()\n",
    "\n",
    "SSH_std=SSH_std.squeeze()\n",
    "SST_std=SST_std.squeeze()\n",
    "SSS_std=SSS_std.squeeze()\n",
    "\n",
    "SSH_local_diff=SSH_local_diff.squeeze()\n",
    "SST_local_diff=SST_local_diff.squeeze()\n",
    "SSS_local_diff=SSS_local_diff.squeeze()\n",
    "\n",
    "SSH_global_diff=SSH_global_diff.squeeze()\n",
    "SST_global_diff=SST_global_diff.squeeze()\n",
    "SSS_global_diff=SSS_global_diff.squeeze()\n",
    "\n",
    "SSH_truth=SSH_truth.squeeze()\n",
    "SST_truth=SST_truth.squeeze()\n",
    "SSS_truth=SSS_truth.squeeze()"
   ]
  },
  {
   "cell_type": "markdown",
   "metadata": {},
   "source": [
    "## Plot Function"
   ]
  },
  {
   "cell_type": "code",
   "execution_count": 10,
   "metadata": {},
   "outputs": [
    {
     "ename": "IndentationError",
     "evalue": "expected an indented block (<ipython-input-10-7df1efde800e>, line 3)",
     "output_type": "error",
     "traceback": [
      "\u001b[1;36m  File \u001b[1;32m\"<ipython-input-10-7df1efde800e>\"\u001b[1;36m, line \u001b[1;32m3\u001b[0m\n\u001b[1;33m    Function to create cartopy subplot with contourf\u001b[0m\n\u001b[1;37m           ^\u001b[0m\n\u001b[1;31mIndentationError\u001b[0m\u001b[1;31m:\u001b[0m expected an indented block\n"
     ]
    }
   ],
   "source": [
    "def cartopy_subplot(lon, lat, var, ax1, cmap, typevar, nlevels):\n",
    "    \n",
    "#Function to create cartopy subplot with contourf\n",
    "#var = variable to plot (2D)\n",
    "\n",
    "\n",
    "#ax1 = plt.subplot(1,2,1 ,projection=ccrs.PlateCarree(central_longitude=-30)) #add_subplot(121,projection=ccrs.PlateCarree(central_longitude=-30))\\n\",\n",
    "#ax.set_extent([-100, 50, 0, 70])\n",
    "cmap.set_under(color='grey')\n",
    "#pcolor=ax1.contourf(lon,lat,var, levels=levels, transform=ccrs.PlateCarree(),cmap=cmap)#,vmin=vmin,vmax=vmax)\n",
    "ax1.add_feature(cfeature.LAND,facecolor='grey')\n",
    "ax1.coastlines(resolution='50m')\n",
    "gl=ax1.gridlines(crs=ccrs.PlateCarree(), draw_labels=True,linewidth=2, color='gray', alpha=0.5, linestyle='--')\n",
    "\n",
    "fig.subplots_adjust(right=0.8)\n",
    "#gl.xlocator = mticker.FixedLocator([-110,-90,-70,-50,-30,-10,10,30,50,70,90,110])\n",
    "#gl.ylocator = mticker.FixedLocator([-10,0,10,20,30,40,50,60,70,80])\n",
    "gl.xformatter = LONGITUDE_FORMATTER\n",
    "gl.yformatter = LATITUDE_FORMATTER\n",
    "gl.xlabels_top = False\n",
    "gl.ylabels_right = False\n",
    "gl.xlabel_style = {'size': 15, 'color': 'gray'}\n",
    "gl.ylabel_style = {'size': 15, 'color': 'gray'}\n",
    "pp = ax1.contourf(lon,lat,var, levels=nlevels, transform=ccrs.PlateCarree(),cmap=cmap)#,vmin=vmin,vmax=vmax)\n",
    "\n",
    "#gl.xlabels_top = False\n",
    "#gl.ylabels_left = False\n",
    "if typevar == 'SSH':\n",
    "cbar_num_format = \"%0.3f\"\n",
    "    else:\n",
    "    cbar_num_format = \"%0.2f\"\n",
    "    \n",
    "cbar = plt.colorbar(pp,orientation='horizontal',shrink=1, format=cbar_num_format)\n",
    "#cbar = plt.colorbar(pcolor,orientation='horizontal',shrink=0.75,label='m', format='%.0e')\n",
    "\n",
    "\n",
    "return gl"
   ]
  },
  {
   "cell_type": "code",
   "execution_count": 13,
   "metadata": {},
   "outputs": [
    {
     "ename": "NameError",
     "evalue": "name 'SSH_local_mean' is not defined",
     "output_type": "error",
     "traceback": [
      "\u001b[1;31m---------------------------------------------------------------------------\u001b[0m",
      "\u001b[1;31mNameError\u001b[0m                                 Traceback (most recent call last)",
      "\u001b[1;32m<ipython-input-13-36a4b5760902>\u001b[0m in \u001b[0;36m<module>\u001b[1;34m\u001b[0m\n\u001b[0;32m      7\u001b[0m \u001b[1;33m\u001b[0m\u001b[0m\n\u001b[0;32m      8\u001b[0m \u001b[0mcmap\u001b[0m \u001b[1;33m=\u001b[0m \u001b[1;33m[\u001b[0m\u001b[0mplt\u001b[0m\u001b[1;33m.\u001b[0m\u001b[0mget_cmap\u001b[0m\u001b[1;33m(\u001b[0m\u001b[1;34m'inferno'\u001b[0m\u001b[1;33m)\u001b[0m\u001b[1;33m,\u001b[0m\u001b[0mplt\u001b[0m\u001b[1;33m.\u001b[0m\u001b[0mget_cmap\u001b[0m\u001b[1;33m(\u001b[0m\u001b[1;34m'cool'\u001b[0m\u001b[1;33m)\u001b[0m\u001b[1;33m,\u001b[0m \u001b[0mplt\u001b[0m\u001b[1;33m.\u001b[0m\u001b[0mget_cmap\u001b[0m\u001b[1;33m(\u001b[0m\u001b[1;34m'winter'\u001b[0m\u001b[1;33m)\u001b[0m\u001b[1;33m]\u001b[0m\u001b[1;33m\u001b[0m\u001b[1;33m\u001b[0m\u001b[0m\n\u001b[1;32m----> 9\u001b[1;33m \u001b[0mvar\u001b[0m \u001b[1;33m=\u001b[0m \u001b[1;33m[\u001b[0m\u001b[0mSSH_local_mean\u001b[0m\u001b[1;33m,\u001b[0m \u001b[0mSST_local_mean\u001b[0m\u001b[1;33m,\u001b[0m\u001b[0mSSS_local_mean\u001b[0m\u001b[1;33m]\u001b[0m\u001b[1;33m\u001b[0m\u001b[1;33m\u001b[0m\u001b[0m\n\u001b[0m\u001b[0;32m     10\u001b[0m \u001b[0mlevels\u001b[0m \u001b[1;33m=\u001b[0m \u001b[1;33m[\u001b[0m\u001b[0mlevels_SSH\u001b[0m\u001b[1;33m,\u001b[0m \u001b[0mlevels_SST\u001b[0m\u001b[1;33m,\u001b[0m \u001b[0mlevels_SSS\u001b[0m\u001b[1;33m]\u001b[0m\u001b[1;33m\u001b[0m\u001b[1;33m\u001b[0m\u001b[0m\n\u001b[0;32m     11\u001b[0m \u001b[0mfigures\u001b[0m \u001b[1;33m=\u001b[0m \u001b[1;33m[\u001b[0m\u001b[1;36m131\u001b[0m\u001b[1;33m,\u001b[0m\u001b[1;36m132\u001b[0m\u001b[1;33m,\u001b[0m\u001b[1;36m133\u001b[0m\u001b[1;33m]\u001b[0m\u001b[1;33m\u001b[0m\u001b[1;33m\u001b[0m\u001b[0m\n",
      "\u001b[1;31mNameError\u001b[0m: name 'SSH_local_mean' is not defined"
     ]
    },
    {
     "data": {
      "image/png": "[encoded data removed]",
      "text/plain": [
       "<Figure size 1440x432 with 1 Axes>"
      ]
     },
     "metadata": {
      "needs_background": "light"
     },
     "output_type": "display_data"
    }
   ],
   "source": [
    "fig = plt.figure(figsize=(20,6))\n",
    "ax1 = fig.add_subplot(131,projection=ccrs.PlateCarree(central_longitude=-30))\n",
    "\n",
    "levels_SSH = np.linspace(-0.45, -0.07, 25)\n",
    "levels_SST = np.linspace(10.1, 17.7, 25)\n",
    "levels_SSS = np.linspace(32, 38.1, 25)\n",
    "\n",
    "cmap = [plt.get_cmap('inferno'),plt.get_cmap('cool'), plt.get_cmap('winter')]\n",
    "var = [SSH_mean, SST_local_mean,SSS_local_mean]\n",
    "levels = [levels_SSH, levels_SST, levels_SSS]\n",
    "figures = [131,132,133]\n",
    "\n",
    "for ii in [0,1,2]:\n",
    "   ax1 = fig.add_subplot(figures[ii],projection=ccrs.PlateCarree(central_longitude=-30))\n",
    "   pcolor = ax1.contourf(lon,lat,var[ii], levels=levels[ii], transform=ccrs.PlateCarree(),cmap=cmap[ii])\n",
    "   cbar = plt.colorbar(pcolor,orientation='horizontal',shrink=1)#, format=cbar_num_format)\n",
    "\n",
    "plt.suptitle('Local Mean' ,size=19)\n",
    "plt.show(fig)"
   ]
  },
  {
   "cell_type": "code",
   "execution_count": 16,
   "metadata": {},
   "outputs": [
    {
     "ename": "NameError",
     "evalue": "name 'SSH_local_diff' is not defined",
     "output_type": "error",
     "traceback": [
      "\u001b[1;31m---------------------------------------------------------------------------\u001b[0m",
      "\u001b[1;31mNameError\u001b[0m                                 Traceback (most recent call last)",
      "\u001b[1;32m<ipython-input-16-fdd600373bac>\u001b[0m in \u001b[0;36m<module>\u001b[1;34m\u001b[0m\n\u001b[0;32m      7\u001b[0m \u001b[1;33m\u001b[0m\u001b[0m\n\u001b[0;32m      8\u001b[0m \u001b[0max1\u001b[0m \u001b[1;33m=\u001b[0m \u001b[0mfig\u001b[0m\u001b[1;33m.\u001b[0m\u001b[0madd_subplot\u001b[0m\u001b[1;33m(\u001b[0m\u001b[1;36m131\u001b[0m\u001b[1;33m,\u001b[0m\u001b[0mprojection\u001b[0m\u001b[1;33m=\u001b[0m\u001b[0mccrs\u001b[0m\u001b[1;33m.\u001b[0m\u001b[0mPlateCarree\u001b[0m\u001b[1;33m(\u001b[0m\u001b[0mcentral_longitude\u001b[0m\u001b[1;33m=\u001b[0m\u001b[1;33m-\u001b[0m\u001b[1;36m30\u001b[0m\u001b[1;33m)\u001b[0m\u001b[1;33m)\u001b[0m\u001b[1;33m\u001b[0m\u001b[1;33m\u001b[0m\u001b[0m\n\u001b[1;32m----> 9\u001b[1;33m \u001b[0mvar\u001b[0m \u001b[1;33m=\u001b[0m \u001b[0mSSH_local_diff\u001b[0m\u001b[1;33m\u001b[0m\u001b[1;33m\u001b[0m\u001b[0m\n\u001b[0m\u001b[0;32m     10\u001b[0m \u001b[0mcmap\u001b[0m \u001b[1;33m=\u001b[0m \u001b[0mplt\u001b[0m\u001b[1;33m.\u001b[0m\u001b[0mget_cmap\u001b[0m\u001b[1;33m(\u001b[0m\u001b[1;34m'inferno'\u001b[0m\u001b[1;33m)\u001b[0m\u001b[1;33m\u001b[0m\u001b[1;33m\u001b[0m\u001b[0m\n\u001b[0;32m     11\u001b[0m \u001b[0mcartopy_subplot\u001b[0m\u001b[1;33m(\u001b[0m\u001b[0mlon\u001b[0m\u001b[1;33m,\u001b[0m \u001b[0mlat\u001b[0m\u001b[1;33m,\u001b[0m \u001b[0mvar\u001b[0m\u001b[1;33m,\u001b[0m \u001b[0max1\u001b[0m\u001b[1;33m,\u001b[0m \u001b[0mcmap\u001b[0m\u001b[1;33m,\u001b[0m\u001b[1;34m'SSH'\u001b[0m\u001b[1;33m,\u001b[0m \u001b[0mlevels_SSH\u001b[0m\u001b[1;33m)\u001b[0m\u001b[1;33m\u001b[0m\u001b[1;33m\u001b[0m\u001b[0m\n",
      "\u001b[1;31mNameError\u001b[0m: name 'SSH_local_diff' is not defined"
     ]
    },
    {
     "data": {
      "image/png": "[encoded data removed]",
      "text/plain": [
       "<Figure size 1440x432 with 1 Axes>"
      ]
     },
     "metadata": {
      "needs_background": "light"
     },
     "output_type": "display_data"
    }
   ],
   "source": [
    "fig = plt.figure(figsize=(20,6))\n",
    "\n",
    "levels_SSH = np.linspace(-0.045, 0.066, 25)\n",
    "levels_SST = np.linspace(-0.33, 0.47, 25)\n",
    "levels_SSS = np.linspace(-0.18, 0.33, 25)\n",
    " \n",
    "    \n",
    "ax1 = fig.add_subplot(131,projection=ccrs.PlateCarree(central_longitude=-30))\n",
    "var = SSH_local_diff\n",
    "cmap = plt.get_cmap('inferno')\n",
    "cartopy_subplot(lon, lat, var, ax1, cmap,'SSH', levels_SSH)\n",
    "ax1.set_title('SSH',size=17,y=1.08)\n",
    "    \n",
    "ax2 = fig.add_subplot(132,projection=ccrs.PlateCarree(central_longitude=-30))\n",
    "var = SST_local_diff\n",
    "cmap_2 = plt.get_cmap('cool')\n",
    "gl = cartopy_subplot(lon, lat, var, ax2, cmap_2,'notSSH', levels_SST)\n",
    "ax2.set_title('SST',size=17,y=1.08)\n",
    "gl.ylabels_left = False\n",
    "    \n",
    "ax3 = fig.add_subplot(133,projection=ccrs.PlateCarree(central_longitude=-30))\n",
    "var = SSS_local_diff\n",
    "cmap_3 = plt.get_cmap('winter')\n",
    "gl = cartopy_subplot(lon, lat, var, ax3, cmap_3)\n",
    "cartopy_subplot(lon, lat, var, ax3, cmap_3,'notSSH', levels_SSS)\n",
    "ax3.set_title('SSS',size=17,y=1.08)\n",
    "    \n",
    "    \n",
    "plt.suptitle('Difference between Local analysis and Truth state' ,size=19)\n",
    "#plt.savefig(\\\"local_diff_new.png\\\")"
   ]
  },
  {
   "cell_type": "code",
   "execution_count": null,
   "metadata": {},
   "outputs": [],
   "source": []
  }
 ],
 "metadata": {
  "kernelspec": {
   "display_name": "Python 3",
   "language": "python",
   "name": "python3"
  },
  "language_info": {
   "codemirror_mode": {
    "name": "ipython",
    "version": 3
   },
   "file_extension": ".py",
   "mimetype": "text/x-python",
   "name": "python",
   "nbconvert_exporter": "python",
   "pygments_lexer": "ipython3",
   "version": "3.7.6"
  }
 },
 "nbformat": 4,
 "nbformat_minor": 4
}
